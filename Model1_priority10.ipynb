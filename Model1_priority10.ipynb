{
 "cells": [
  {
   "cell_type": "code",
   "execution_count": 1,
   "id": "397f1470-7ab2-4797-8e77-6f847717fae3",
   "metadata": {},
   "outputs": [
    {
     "name": "stderr",
     "output_type": "stream",
     "text": [
      "[nltk_data] Downloading package omw-1.4 to\n",
      "[nltk_data]     /Users/nikhilpatil/nltk_data...\n",
      "[nltk_data]   Package omw-1.4 is already up-to-date!\n"
     ]
    }
   ],
   "source": [
    "# To scrape Wikipedia\n",
    "from bs4 import BeautifulSoup\n",
    "# To access contents from URLs\n",
    "import requests\n",
    "# to preprocess text\n",
    "import nltk\n",
    "nltk.download('omw-1.4')\n",
    "# to handle punctuations\n",
    "from string import punctuation\n",
    "# TF-IDF vectorizer\n",
    "from sklearn.feature_extraction.text import TfidfVectorizer\n",
    "# cosine similarity score\n",
    "from sklearn.metrics.pairwise import cosine_similarity \n",
    "# to do array operations\n",
    "import numpy as np\n",
    "# to have sleep option\n",
    "from time import sleep \n",
    "\n",
    "#nltk.download('stopwords')"
   ]
  },
  {
   "cell_type": "code",
   "execution_count": 2,
   "id": "d5c54829-8b48-45e0-876a-71dff0d64002",
   "metadata": {},
   "outputs": [],
   "source": [
    "class ChatBot():\n",
    "    \n",
    "    # initialize bot\n",
    "    def __init__(self):\n",
    "        # flag whether to end chat\n",
    "        self.end_chat = False\n",
    "        # flag whether topic is found in wikipedia\n",
    "        self.got_topic = False\n",
    "        # flag whether to call respond()\n",
    "        # in some cases, response be made already\n",
    "        self.do_not_respond = True\n",
    "        \n",
    "        # wikipedia title\n",
    "        self.title = None\n",
    "        # wikipedia scraped data as paragraphs\n",
    "        self.text_data = []\n",
    "        # data as sentences\n",
    "        self.sentences = []\n",
    "        # to keep track of paragraph indices\n",
    "        # corresponding to all sentences\n",
    "        self.para_indices = []\n",
    "        # currently retrieved sentence id\n",
    "        self.current_sent_idx = None\n",
    "        \n",
    "        # a punctuation dictionary\n",
    "        self.punctuation_dict = str.maketrans({p:None for p in punctuation})\n",
    "        # wordnet lemmatizer for preprocessing text\n",
    "        self.lemmatizer = nltk.stem.WordNetLemmatizer()\n",
    "        # collection of stopwords\n",
    "        self.stopwords = nltk.corpus.stopwords.words('english')\n",
    "        # initialize chatting\n",
    "        self.greeting()\n",
    "\n",
    "    # greeting method - to be called internally\n",
    "    # chatbot initializing chat on screen with greetings\n",
    "    def greeting(self):\n",
    "        print(\"Initializing ChatBot ...\")\n",
    "        # some time to get user ready\n",
    "        # chat ending tags\n",
    "        print('Type \"bye\" or \"quit\" or \"exit\" to end chat')\n",
    "        # chatbot descriptions\n",
    "        print('\\nEnter your topic of interest when prompted. \\\n",
    "        \\nChaBot will access Wikipedia, prepare itself to \\\n",
    "        \\nrespond to your queries on that topic. \\n')\n",
    "        print('ChatBot will respond with short info. \\\n",
    "        \\nIf you input \"more\", it will give you detailed info \\\n",
    "        \\nYou can also jump to next query')\n",
    "        # give time to read what has been printed\n",
    "        print('-'*50)\n",
    "        # Greet and introduce\n",
    "        greet = \"Hello, Great day! Please give me a topic of your interest. \"\n",
    "        print(\"ChatBot >>  \" + greet)\n",
    "        \n",
    "    # chat method - should be called by user\n",
    "    # chat method controls inputs, responses, data scraping, preprocessing, modeling.\n",
    "    # once an instance of ChatBot class is initialized, chat method should be called\n",
    "    # to do the entire chatting on one go!\n",
    "    def chat(self):\n",
    "        # continue chat\n",
    "        while not self.end_chat:\n",
    "            # receive input\n",
    "            self.receive_input()\n",
    "            # finish chat if opted by user\n",
    "            if self.end_chat:\n",
    "                print('ChatBot >>  See you soon! Bye!')\n",
    "                sleep(2)\n",
    "                print('\\nQuitting ChatBot ...')\n",
    "            # if data scraping successful\n",
    "            elif self.got_topic:\n",
    "                # in case not already responded\n",
    "                if not self.do_not_respond:\n",
    "                    self.respond()\n",
    "                # clear flag so that bot can respond next time\n",
    "                self.do_not_respond = False\n",
    "    \n",
    "    # receive_input method - to be called internally\n",
    "    # recieves input from user and makes preliminary decisions\n",
    "    def receive_input(self):\n",
    "        # receive input from user\n",
    "        text = input(\"User    >> \")\n",
    "        # end conversation if user wishes so\n",
    "        if text.lower().strip() in ['bye', 'quit', 'exit']:\n",
    "            # turn flag on \n",
    "            self.end_chat=True\n",
    "        # if user needs more information \n",
    "        elif text.lower().strip() == 'more':\n",
    "            # respond here itself\n",
    "            self.do_not_respond = True\n",
    "            # if at least one query has been received \n",
    "            if self.current_sent_idx != None:\n",
    "                response = self.text_data[self.para_indices[self.current_sent_idx]]\n",
    "            # prompt user to start querying\n",
    "            else:\n",
    "                response = \"Please input your query first!\"\n",
    "            print(\"ChatBot >> \" + response)\n",
    "        # if topic is not chosen\n",
    "        elif not self.got_topic:\n",
    "            self.scrape_wiki(text)\n",
    "        else:\n",
    "            # add user input to sentences, so that we can vectorize in whole\n",
    "            self.sentences.append(text)\n",
    "                \n",
    "    # respond method - to be called internally\n",
    "    def respond(self):\n",
    "        # tf-idf-modeling\n",
    "        vectorizer = TfidfVectorizer(tokenizer=self.preprocess)\n",
    "        # fit data and obtain tf-idf vector\n",
    "        tfidf = vectorizer.fit_transform(self.sentences)\n",
    "        # calculate cosine similarity scores\n",
    "        scores = cosine_similarity(tfidf[-1],tfidf) \n",
    "        # identify the most closest sentence\n",
    "        self.current_sent_idx = scores.argsort()[0][-2]\n",
    "        # find the corresponding score value\n",
    "        scores = scores.flatten()\n",
    "        scores.sort()\n",
    "        print(scores)\n",
    "        print(self.sentences[self.current_sent_idx])\n",
    "        value = scores[-2]\n",
    "        # if there is matching sentence\n",
    "        if value != 0:\n",
    "            print(\"ChatBot >> \" + self.sentences[self.current_sent_idx-1]) \n",
    "        # if no sentence is matching the query\n",
    "        else:\n",
    "            print(\"ChatBot >>  I am not sure. Sorry!\" )\n",
    "        # remove the user query from sentences\n",
    "        del self.sentences[-1]\n",
    "        \n",
    "    # scrape_wiki method - to be called internally.\n",
    "    # called when user inputs topic of interest.\n",
    "    # employs requests to access Wikipedia via URL.\n",
    "    # employs BeautifulSoup to scrape paragraph tagged data\n",
    "    # and h1 tagged article heading.\n",
    "    # employs NLTK to tokenize data\n",
    "    def scrape_wiki(self,topic):\n",
    "        # process topic as required by Wikipedia URL system\n",
    "        topic = topic.lower().strip().capitalize().split(' ')\n",
    "        topic = '_'.join(topic)\n",
    "        try:\n",
    "            # creata an url\n",
    "            link = 'https://en.wikipedia.org/wiki/'+ topic\n",
    "            # access contents via url\n",
    "            data = requests.get(link).content\n",
    "            # parse data as soup object\n",
    "            soup = BeautifulSoup(data, 'html.parser')\n",
    "            # extract all paragraph data\n",
    "            # scrape strings with html tag 'p'\n",
    "            para = soup.findAll('p')\n",
    "            # iterate over all paragraphs\n",
    "            for p in para:\n",
    "                # a bucket to collect processed data\n",
    "                a = []\n",
    "                # iterate over para contents and tags\n",
    "                for i in p.contents:\n",
    "                    # exclude references, superscripts, formattings\n",
    "                    if i.name != 'sup' and i.string != None:\n",
    "                        stripped = ' '.join(i.string.strip().split())\n",
    "                        # collect data pieces\n",
    "                        a.append(stripped)\n",
    "                # with collected string pieces formulate a single string\n",
    "                # each string is a paragraph\n",
    "                self.text_data.append(' '.join(a))\n",
    "            \n",
    "            # obtain sentences from paragraphs\n",
    "            for i,para in enumerate(self.text_data):\n",
    "                sentences = nltk.sent_tokenize(para)\n",
    "                self.sentences.extend(sentences)\n",
    "                # for each sentence, its para index must be known\n",
    "                # it will be useful in case user prompts \"more\" info\n",
    "                index = [i]*len(sentences)\n",
    "                self.para_indices.extend(index)\n",
    "            \n",
    "            # extract h1 heading tag from soup object\n",
    "            self.title = soup.find('h1').string\n",
    "            # turn respective flag on\n",
    "            self.got_topic = True\n",
    "            # announce user that chatbot is ready now\n",
    "            print('ChatBot >>  Topic is \"Wikipedia: {}\". Let\\'s chat!'.format(self.title)) \n",
    "        # in case of unavailable topics\n",
    "        except Exception as e:\n",
    "            print('ChatBot >>  Error: {}. \\\n",
    "            Please input some other topic!'.format(e))\n",
    "        \n",
    "    # preprocess method - to be called internally by Tf-Idf vectorizer\n",
    "    # text preprocessing, stopword removal, lemmatization, word tokenization\n",
    "    def preprocess(self, text):\n",
    "        # remove punctuations\n",
    "        text = text.lower().strip().translate(self.punctuation_dict) \n",
    "        # tokenize into words\n",
    "        words = nltk.word_tokenize(text)\n",
    "        # remove stopwords\n",
    "        words = [w for w in words if w not in self.stopwords]\n",
    "        # lemmatize \n",
    "        return [self.lemmatizer.lemmatize(w) for w in words]\n"
   ]
  },
  {
   "cell_type": "code",
   "execution_count": null,
   "id": "139b03f2-21eb-4144-93fa-0e9d1a502122",
   "metadata": {},
   "outputs": [
    {
     "name": "stdout",
     "output_type": "stream",
     "text": [
      "Initializing ChatBot ...\n",
      "Type \"bye\" or \"quit\" or \"exit\" to end chat\n",
      "\n",
      "Enter your topic of interest when prompted.         \n",
      "ChaBot will access Wikipedia, prepare itself to         \n",
      "respond to your queries on that topic. \n",
      "\n",
      "ChatBot will respond with short info.         \n",
      "If you input \"more\", it will give you detailed info         \n",
      "You can also jump to next query\n",
      "--------------------------------------------------\n",
      "ChatBot >>  Hello, Great day! Please give me a topic of your interest. \n"
     ]
    },
    {
     "name": "stdin",
     "output_type": "stream",
     "text": [
      "User    >>  android\n"
     ]
    },
    {
     "name": "stdout",
     "output_type": "stream",
     "text": [
      "ChatBot >>  Topic is \"Wikipedia: Android\". Let's chat!\n"
     ]
    },
    {
     "name": "stdin",
     "output_type": "stream",
     "text": [
      "User    >>  who found it?\n"
     ]
    },
    {
     "name": "stderr",
     "output_type": "stream",
     "text": [
      "/Users/nikhilpatil/opt/anaconda3/lib/python3.9/site-packages/sklearn/feature_extraction/text.py:528: UserWarning: The parameter 'token_pattern' will not be used since 'tokenizer' is not None'\n",
      "  warnings.warn(\n"
     ]
    },
    {
     "name": "stdout",
     "output_type": "stream",
     "text": [
      "[0. 1.]\n",
      "Android may refer to:\n",
      "ChatBot >>  I am not sure. Sorry!\n"
     ]
    },
    {
     "name": "stdin",
     "output_type": "stream",
     "text": [
      "User    >>  who is the owner?\n"
     ]
    },
    {
     "name": "stdout",
     "output_type": "stream",
     "text": [
      "[0. 1.]\n",
      "Android may refer to:\n",
      "ChatBot >>  I am not sure. Sorry!\n"
     ]
    },
    {
     "name": "stdin",
     "output_type": "stream",
     "text": [
      "User    >>  when was it released?\n"
     ]
    },
    {
     "name": "stdout",
     "output_type": "stream",
     "text": [
      "[0. 1.]\n",
      "Android may refer to:\n",
      "ChatBot >>  I am not sure. Sorry!\n"
     ]
    },
    {
     "name": "stdin",
     "output_type": "stream",
     "text": [
      "User    >>  what is it?\n"
     ]
    },
    {
     "name": "stdout",
     "output_type": "stream",
     "text": [
      "[0. 0.]\n",
      "Android may refer to:\n",
      "ChatBot >>  I am not sure. Sorry!\n"
     ]
    }
   ],
   "source": [
    "# instantiate an object\n",
    "wiki = ChatBot()\n",
    "# call chat method\n",
    "wiki.chat()"
   ]
  },
  {
   "cell_type": "code",
   "execution_count": null,
   "id": "e062a5a2-ccee-4ab3-a546-206a346f1562",
   "metadata": {},
   "outputs": [],
   "source": []
  }
 ],
 "metadata": {
  "kernelspec": {
   "display_name": "Python 3 (ipykernel)",
   "language": "python",
   "name": "python3"
  },
  "language_info": {
   "codemirror_mode": {
    "name": "ipython",
    "version": 3
   },
   "file_extension": ".py",
   "mimetype": "text/x-python",
   "name": "python",
   "nbconvert_exporter": "python",
   "pygments_lexer": "ipython3",
   "version": "3.9.12"
  }
 },
 "nbformat": 4,
 "nbformat_minor": 5
}
