{
 "cells": [
  {
   "cell_type": "code",
   "execution_count": 2,
   "id": "154e72e4-c03b-40a4-a220-f7a6287f8b4f",
   "metadata": {},
   "outputs": [
    {
     "data": {
      "text/html": [
       "<pre style=\"white-space:pre;overflow-x:auto;line-height:normal;font-family:Menlo,'DejaVu Sans Mono',consolas,'Courier New',monospace\"><span style=\"color: #800000; text-decoration-color: #800000\">╭─────────────────────────────── </span><span style=\"color: #800000; text-decoration-color: #800000; font-weight: bold\">Traceback </span><span style=\"color: #bf7f7f; text-decoration-color: #bf7f7f; font-weight: bold\">(most recent call last)</span><span style=\"color: #800000; text-decoration-color: #800000\"> ────────────────────────────────╮</span>\n",
       "<span style=\"color: #800000; text-decoration-color: #800000\">│</span> <span style=\"color: #bfbf7f; text-decoration-color: #bfbf7f\">/var/folders/cf/2tq9k7jx74l_dln50dmtqlj80000gn/T/ipykernel_16305/</span><span style=\"color: #808000; text-decoration-color: #808000; font-weight: bold\">2809923646.py</span>:<span style=\"color: #0000ff; text-decoration-color: #0000ff\">58</span> in <span style=\"color: #00ff00; text-decoration-color: #00ff00\">&lt;cell line:</span> <span style=\"color: #800000; text-decoration-color: #800000\">│</span>\n",
       "<span style=\"color: #800000; text-decoration-color: #800000\">│</span> <span style=\"color: #00ff00; text-decoration-color: #00ff00\">56&gt;</span>                                                                                              <span style=\"color: #800000; text-decoration-color: #800000\">│</span>\n",
       "<span style=\"color: #800000; text-decoration-color: #800000\">│</span>                                                                                                  <span style=\"color: #800000; text-decoration-color: #800000\">│</span>\n",
       "<span style=\"color: #800000; text-decoration-color: #800000\">│</span> <span style=\"color: #800000; text-decoration-color: #800000; font-style: italic\">[Errno 2] No such file or directory: </span>                                                            <span style=\"color: #800000; text-decoration-color: #800000\">│</span>\n",
       "<span style=\"color: #800000; text-decoration-color: #800000\">│</span> <span style=\"color: #800000; text-decoration-color: #800000; font-style: italic\">'/var/folders/cf/2tq9k7jx74l_dln50dmtqlj80000gn/T/ipykernel_16305/2809923646.py'</span>                 <span style=\"color: #800000; text-decoration-color: #800000\">│</span>\n",
       "<span style=\"color: #800000; text-decoration-color: #800000\">╰──────────────────────────────────────────────────────────────────────────────────────────────────╯</span>\n",
       "<span style=\"color: #ff0000; text-decoration-color: #ff0000; font-weight: bold\">NameError: </span>name <span style=\"color: #008000; text-decoration-color: #008000\">'SquadReader'</span> is not defined\n",
       "</pre>\n"
      ],
      "text/plain": [
       "\u001b[31m╭─\u001b[0m\u001b[31m──────────────────────────────\u001b[0m\u001b[31m \u001b[0m\u001b[1;31mTraceback \u001b[0m\u001b[1;2;31m(most recent call last)\u001b[0m\u001b[31m \u001b[0m\u001b[31m───────────────────────────────\u001b[0m\u001b[31m─╮\u001b[0m\n",
       "\u001b[31m│\u001b[0m \u001b[2;33m/var/folders/cf/2tq9k7jx74l_dln50dmtqlj80000gn/T/ipykernel_16305/\u001b[0m\u001b[1;33m2809923646.py\u001b[0m:\u001b[94m58\u001b[0m in \u001b[92m<cell line:\u001b[0m \u001b[31m│\u001b[0m\n",
       "\u001b[31m│\u001b[0m \u001b[92m56>\u001b[0m                                                                                              \u001b[31m│\u001b[0m\n",
       "\u001b[31m│\u001b[0m                                                                                                  \u001b[31m│\u001b[0m\n",
       "\u001b[31m│\u001b[0m \u001b[3;31m[Errno 2] No such file or directory: \u001b[0m                                                            \u001b[31m│\u001b[0m\n",
       "\u001b[31m│\u001b[0m \u001b[3;31m'/var/folders/cf/2tq9k7jx74l_dln50dmtqlj80000gn/T/ipykernel_16305/2809923646.py'\u001b[0m                 \u001b[31m│\u001b[0m\n",
       "\u001b[31m╰──────────────────────────────────────────────────────────────────────────────────────────────────╯\u001b[0m\n",
       "\u001b[1;91mNameError: \u001b[0mname \u001b[32m'SquadReader'\u001b[0m is not defined\n"
      ]
     },
     "metadata": {},
     "output_type": "display_data"
    }
   ],
   "source": [
    "import wikipediaapi\n",
    "\n",
    "\n",
    "from allennlp.commands.train import train_model_from_args\n",
    "\n",
    "config = {\n",
    "    \"dataset_reader\": {\n",
    "        \"type\": \"squad\",\n",
    "        \"tokenizer\": {\"type\": \"word\"},\n",
    "        \"token_indexers\": {\"tokens\": {\"type\": \"single_id\"}},\n",
    "        \"lazy\": 'true'\n",
    "    },\n",
    "    # \"train_data_path\": \"/path/to/train/data\",\n",
    "    # \"validation_data_path\": \"/path/to/validation/data\",\n",
    "    \"model\": {\n",
    "        \"type\": \"bidaf\",\n",
    "        \"text_field_embedder\": {\n",
    "            \"token_embedders\": {\n",
    "                \"tokens\": {\n",
    "                    \"type\": \"embedding\",\n",
    "                    \"num_embeddings\": 10000,\n",
    "                    \"embedding_dim\": 300\n",
    "                }\n",
    "            }\n",
    "        },\n",
    "        \"encoder\": {\n",
    "            \"type\": \"lstm\",\n",
    "            \"hidden_size\": 150,\n",
    "            \"num_layers\": 2,\n",
    "            \"bidirectional\": 'true'\n",
    "        },\n",
    "        \"dropout\": 0.2\n",
    "    },\n",
    "    \"iterator\": {\n",
    "        \"type\": \"bucket\",\n",
    "        \"batch_size\": 64,\n",
    "        \"sorting_keys\": [[\"question\", \"num_tokens\"], [\"passage\", \"num_tokens\"]]\n",
    "    },\n",
    "    \"trainer\": {\n",
    "        \"num_epochs\": 10,\n",
    "        \"cuda_device\": 0\n",
    "    },\n",
    "    \"validation_metric\": \"+f1\",\n",
    "    \"output_dir\": \"/path/to/save/directory\"\n",
    "}\n",
    "\n",
    "# train_model_from_args(config, serialization_dir=config[\"output_dir\"])\n",
    "\n",
    "\n",
    "\n",
    "from allennlp.predictors.predictor import Predictor\n",
    "# from my_package.dataset_reader import SquadReader\n",
    "\n",
    "\n",
    "# Load the AllenNLP machine comprehension model\n",
    "predictor = Predictor.from_path(\"https://storage.googleapis.com/allennlp-public-models/bidaf-elmo-model-2020.03.19.tar.gz\",\n",
    "                                predictor_name=\"machine-comprehension\",\n",
    "                                dataset_reader=SquadReader())\n",
    "\n",
    "# Ask the user for a question\n",
    "question = input(\"What do you want to know? \")\n",
    "\n",
    "# Use the model to generate an answer\n",
    "answer = predictor.predict(question)['best_span_str']\n",
    "\n",
    "# Use the answer to query Wikipedia for more information\n",
    "try:\n",
    "    wikipedia.set_lang(\"en\")\n",
    "    page = wikipedia.page(answer)\n",
    "    print(page.summary)\n",
    "except wikipedia.exceptions.DisambiguationError as e:\n",
    "    print(\"I'm not sure which article you mean. Here are some possibilities:\")\n",
    "    for option in e.options:\n",
    "        print(option)\n",
    "except wikipedia.exceptions.PageError:\n",
    "    print(\"I couldn't find an article on that topic.\")\n"
   ]
  },
  {
   "cell_type": "code",
   "execution_count": null,
   "id": "1659a94d-686e-477a-91cc-b803c4995468",
   "metadata": {},
   "outputs": [],
   "source": [
    "\n",
    "! which conda"
   ]
  },
  {
   "cell_type": "code",
   "execution_count": null,
   "id": "f40f8fc4-e77b-42ed-8865-add401b3d292",
   "metadata": {},
   "outputs": [],
   "source": []
  }
 ],
 "metadata": {
  "kernelspec": {
   "display_name": "Python 3 (ipykernel)",
   "language": "python",
   "name": "python3"
  },
  "language_info": {
   "codemirror_mode": {
    "name": "ipython",
    "version": 3
   },
   "file_extension": ".py",
   "mimetype": "text/x-python",
   "name": "python",
   "nbconvert_exporter": "python",
   "pygments_lexer": "ipython3",
   "version": "3.9.12"
  }
 },
 "nbformat": 4,
 "nbformat_minor": 5
}
