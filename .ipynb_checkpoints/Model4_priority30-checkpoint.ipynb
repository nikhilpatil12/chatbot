{
 "cells": [
  {
   "cell_type": "code",
   "execution_count": 1,
   "id": "f447de4a-2202-409a-a651-73d89a68ede3",
   "metadata": {},
   "outputs": [
    {
     "name": "stdout",
     "output_type": "stream",
     "text": [
      "Requirement already satisfied: chatterbot in /Users/nikhilpatil/opt/anaconda3/lib/python3.9/site-packages (1.0.4)\n",
      "Requirement already satisfied: python-dateutil<2.8,>=2.7 in /Users/nikhilpatil/opt/anaconda3/lib/python3.9/site-packages (from chatterbot) (2.7.5)\n",
      "Requirement already satisfied: chatterbot-corpus<1.3,>=1.2 in /Users/nikhilpatil/opt/anaconda3/lib/python3.9/site-packages (from chatterbot) (1.2.0)\n",
      "Requirement already satisfied: nltk<4.0,>=3.2 in /Users/nikhilpatil/opt/anaconda3/lib/python3.9/site-packages (from chatterbot) (3.7)\n",
      "Requirement already satisfied: mathparse<0.2,>=0.1 in /Users/nikhilpatil/opt/anaconda3/lib/python3.9/site-packages (from chatterbot) (0.1.2)\n",
      "Requirement already satisfied: sqlalchemy<1.3,>=1.2 in /Users/nikhilpatil/opt/anaconda3/lib/python3.9/site-packages (from chatterbot) (1.2.19)\n",
      "Requirement already satisfied: pint>=0.8.1 in /Users/nikhilpatil/opt/anaconda3/lib/python3.9/site-packages (from chatterbot) (0.20.1)\n",
      "Requirement already satisfied: pymongo<4.0,>=3.3 in /Users/nikhilpatil/opt/anaconda3/lib/python3.9/site-packages (from chatterbot) (3.13.0)\n",
      "Requirement already satisfied: PyYAML<4.0,>=3.12 in /Users/nikhilpatil/opt/anaconda3/lib/python3.9/site-packages (from chatterbot-corpus<1.3,>=1.2->chatterbot) (3.13)\n",
      "Requirement already satisfied: joblib in /Users/nikhilpatil/opt/anaconda3/lib/python3.9/site-packages (from nltk<4.0,>=3.2->chatterbot) (1.1.0)\n",
      "Requirement already satisfied: tqdm in /Users/nikhilpatil/opt/anaconda3/lib/python3.9/site-packages (from nltk<4.0,>=3.2->chatterbot) (4.64.0)\n",
      "Requirement already satisfied: regex>=2021.8.3 in /Users/nikhilpatil/opt/anaconda3/lib/python3.9/site-packages (from nltk<4.0,>=3.2->chatterbot) (2022.3.15)\n",
      "Requirement already satisfied: click in /Users/nikhilpatil/opt/anaconda3/lib/python3.9/site-packages (from nltk<4.0,>=3.2->chatterbot) (8.0.4)\n",
      "Requirement already satisfied: six>=1.5 in /Users/nikhilpatil/opt/anaconda3/lib/python3.9/site-packages (from python-dateutil<2.8,>=2.7->chatterbot) (1.16.0)\n",
      "Training ai.yml: [##                  ] 11%"
     ]
    },
    {
     "name": "stderr",
     "output_type": "stream",
     "text": [
      "[nltk_data] Downloading package averaged_perceptron_tagger to\n",
      "[nltk_data]     /Users/nikhilpatil/nltk_data...\n",
      "[nltk_data]   Package averaged_perceptron_tagger is already up-to-\n",
      "[nltk_data]       date!\n",
      "[nltk_data] Downloading package punkt to\n",
      "[nltk_data]     /Users/nikhilpatil/nltk_data...\n",
      "[nltk_data]   Package punkt is already up-to-date!\n",
      "[nltk_data] Downloading package stopwords to\n",
      "[nltk_data]     /Users/nikhilpatil/nltk_data...\n",
      "[nltk_data]   Package stopwords is already up-to-date!\n"
     ]
    },
    {
     "name": "stdout",
     "output_type": "stream",
     "text": [
      "Training ai.yml: [####################] 100%\n",
      "Training botprofile.yml: [####################] 100%\n",
      "Training computers.yml: [####################] 100%\n",
      "Training conversations.yml: [####################] 100%\n",
      "Training emotion.yml: [####################] 100%\n",
      "Training food.yml: [####################] 100%\n",
      "Training gossip.yml: [####################] 100%\n",
      "Training greetings.yml: [####################] 100%\n",
      "Training health.yml: [####################] 100%\n",
      "Training history.yml: [####################] 100%\n",
      "Training humor.yml: [####################] 100%\n",
      "Training literature.yml: [####################] 100%\n",
      "Training money.yml: [####################] 100%\n",
      "Training movies.yml: [####################] 100%\n",
      "Training politics.yml: [####################] 100%\n",
      "Training psychology.yml: [####################] 100%\n",
      "Training science.yml: [####################] 100%\n",
      "Training sports.yml: [####################] 100%\n",
      "Training trivia.yml: [####################] 100%\n"
     ]
    },
    {
     "data": {
      "text/plain": [
       "<Statement text:The brain of a computer, to put it simply.>"
      ]
     },
     "execution_count": 1,
     "metadata": {},
     "output_type": "execute_result"
    }
   ],
   "source": [
    "! pip install chatterbot\n",
    "from chatterbot import ChatBot\n",
    "from chatterbot.trainers import ChatterBotCorpusTrainer\n",
    "\n",
    "chatbot = ChatBot('Ron Obvious')\n",
    "\n",
    "# Create a new trainer for the chatbot\n",
    "trainer = ChatterBotCorpusTrainer(chatbot)\n",
    "\n",
    "# Train the chatbot based on the english corpus\n",
    "trainer.train(\"chatterbot.corpus.english\")\n",
    "\n",
    "# Get a response to an input statement\n",
    "chatbot.get_response(\"Hello, how are you today?\")"
   ]
  },
  {
   "cell_type": "code",
   "execution_count": 2,
   "id": "d8ff45cd-3eaa-42f0-a55b-5e8f00ad8e6c",
   "metadata": {},
   "outputs": [
    {
     "data": {
      "text/plain": [
       "<Statement text:Do you feel emotions>"
      ]
     },
     "execution_count": 2,
     "metadata": {},
     "output_type": "execute_result"
    }
   ],
   "source": [
    "chatbot.get_response(\"Who is the president of the US?\")"
   ]
  },
  {
   "cell_type": "code",
   "execution_count": 3,
   "id": "825580c8-9263-47c1-95dd-3d0dfb50a672",
   "metadata": {},
   "outputs": [
    {
     "data": {
      "text/plain": [
       "<Statement text:What is a chat robot?>"
      ]
     },
     "execution_count": 3,
     "metadata": {},
     "output_type": "execute_result"
    }
   ],
   "source": [
    "chatbot.get_response(\"Are you dumb?\")"
   ]
  },
  {
   "cell_type": "code",
   "execution_count": 4,
   "id": "eb5630b6-c36a-4093-81ee-c7791398b839",
   "metadata": {},
   "outputs": [
    {
     "name": "stdout",
     "output_type": "stream",
     "text": [
      "Training greetings.yml: [####################] 100%\n",
      "Training conversations.yml: [####################] 100%\n",
      "Training myown.yml: [####################] 100%\n"
     ]
    }
   ],
   "source": [
    "# Train based on english greetings corpus\n",
    "trainer.train(\"chatterbot.corpus.english.greetings\")\n",
    "\n",
    "# Train based on the english conversations corpus\n",
    "trainer.train(\"chatterbot.corpus.english.conversations\")\n",
    "trainer.train(\"chatterbot.corpus.custom.myown\")"
   ]
  },
  {
   "cell_type": "code",
   "execution_count": 5,
   "id": "f56c5f7c-07b8-4cde-8ab1-ba4f1f95d968",
   "metadata": {},
   "outputs": [
    {
     "data": {
      "text/plain": [
       "<Statement text:Beautiful is better than ugly.>"
      ]
     },
     "execution_count": 5,
     "metadata": {},
     "output_type": "execute_result"
    }
   ],
   "source": [
    "chatbot.get_response(\"Are you dumb?\")"
   ]
  },
  {
   "cell_type": "code",
   "execution_count": 6,
   "id": "f3c269cf-f97e-4ea6-81bc-23abf9cc3e79",
   "metadata": {},
   "outputs": [
    {
     "data": {
      "text/plain": [
       "<Statement text:I'm doing well. How are you?>"
      ]
     },
     "execution_count": 6,
     "metadata": {},
     "output_type": "execute_result"
    }
   ],
   "source": [
    "chatbot.get_response(\"Who tf are you????\")"
   ]
  },
  {
   "cell_type": "code",
   "execution_count": 7,
   "id": "39571f72-5328-436c-9e14-3efc9e57eda2",
   "metadata": {},
   "outputs": [
    {
     "data": {
      "text/plain": [
       "<Statement text:TELL ME ABOUT BASEBALL>"
      ]
     },
     "execution_count": 7,
     "metadata": {},
     "output_type": "execute_result"
    }
   ],
   "source": [
    "chatbot.get_response(\"Bruh u suck\")"
   ]
  },
  {
   "cell_type": "code",
   "execution_count": 8,
   "id": "a376883b-227a-4cbd-b999-34f0ba96fcf1",
   "metadata": {},
   "outputs": [
    {
     "data": {
      "text/plain": [
       "<Statement text:yes. that has bothered me for a long time.>"
      ]
     },
     "execution_count": 8,
     "metadata": {},
     "output_type": "execute_result"
    }
   ],
   "source": [
    "chatbot.get_response(\"whats ur name?\")"
   ]
  },
  {
   "cell_type": "code",
   "execution_count": 11,
   "id": "825cdffe-2ba0-45a5-9af4-3df363ccf16e",
   "metadata": {},
   "outputs": [
    {
     "data": {
      "text/plain": [
       "<Statement text:I use Python, Java and C++ quite often.>"
      ]
     },
     "execution_count": 11,
     "metadata": {},
     "output_type": "execute_result"
    }
   ],
   "source": [
    "chatbot.get_response(\"i like cricket\")"
   ]
  },
  {
   "cell_type": "code",
   "execution_count": null,
   "id": "67da56a3-71da-48ce-ae14-0a7a9575345e",
   "metadata": {},
   "outputs": [],
   "source": []
  }
 ],
 "metadata": {
  "kernelspec": {
   "display_name": "Python 3 (ipykernel)",
   "language": "python",
   "name": "python3"
  },
  "language_info": {
   "codemirror_mode": {
    "name": "ipython",
    "version": 3
   },
   "file_extension": ".py",
   "mimetype": "text/x-python",
   "name": "python",
   "nbconvert_exporter": "python",
   "pygments_lexer": "ipython3",
   "version": "3.9.12"
  }
 },
 "nbformat": 4,
 "nbformat_minor": 5
}
