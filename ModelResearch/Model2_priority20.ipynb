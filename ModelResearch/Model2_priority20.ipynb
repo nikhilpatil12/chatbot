{
 "cells": [
  {
   "cell_type": "code",
   "execution_count": 15,
   "id": "54e53b23-146f-41e6-b548-77349b38b432",
   "metadata": {},
   "outputs": [
    {
     "name": "stdout",
     "output_type": "stream",
     "text": [
      "Requirement already satisfied: chatterbot_corpus in /Users/nikhilpatil/opt/anaconda3/lib/python3.9/site-packages (1.2.0)\n",
      "Requirement already satisfied: PyYAML<4.0,>=3.12 in /Users/nikhilpatil/opt/anaconda3/lib/python3.9/site-packages (from chatterbot_corpus) (3.13)\n",
      "Training ai.yml: [####################] 100%\n",
      "Training botprofile.yml: [####################] 100%\n",
      "Training computers.yml: [####                ] 20%"
     ]
    },
    {
     "name": "stderr",
     "output_type": "stream",
     "text": [
      "[nltk_data] Downloading package averaged_perceptron_tagger to\n",
      "[nltk_data]     /Users/nikhilpatil/nltk_data...\n",
      "[nltk_data]   Package averaged_perceptron_tagger is already up-to-\n",
      "[nltk_data]       date!\n",
      "[nltk_data] Downloading package punkt to\n",
      "[nltk_data]     /Users/nikhilpatil/nltk_data...\n",
      "[nltk_data]   Package punkt is already up-to-date!\n",
      "[nltk_data] Downloading package stopwords to\n",
      "[nltk_data]     /Users/nikhilpatil/nltk_data...\n",
      "[nltk_data]   Package stopwords is already up-to-date!\n"
     ]
    },
    {
     "name": "stdout",
     "output_type": "stream",
     "text": [
      "Training computers.yml: [####################] 100%\n",
      "Training conversations.yml: [####################] 100%\n",
      "Training emotion.yml: [####################] 100%\n",
      "Training food.yml: [####################] 100%\n",
      "Training gossip.yml: [####################] 100%\n",
      "Training greetings.yml: [####################] 100%\n",
      "Training health.yml: [####################] 100%\n",
      "Training history.yml: [####################] 100%\n",
      "Training humor.yml: [####################] 100%\n",
      "Training literature.yml: [####################] 100%\n",
      "Training money.yml: [####################] 100%\n",
      "Training movies.yml: [####################] 100%\n",
      "Training politics.yml: [####################] 100%\n",
      "Training psychology.yml: [####################] 100%\n",
      "Training science.yml: [####################] 100%\n",
      "Training sports.yml: [####################] 100%\n",
      "Training trivia.yml: [####################] 100%\n"
     ]
    }
   ],
   "source": [
    "import requests\n",
    "from bs4 import BeautifulSoup\n",
    "from chatterbot import ChatBot\n",
    "from chatterbot.trainers import ChatterBotCorpusTrainer\n",
    "! pip install chatterbot_corpus\n",
    "\n",
    "def scrape_wikipedia(subject):\n",
    "    try:\n",
    "        headers = {\n",
    "            'User-Agent': 'Mozilla/5.0 (Windows NT 10.0; Win64; x64) AppleWebKit/537.36 (KHTML, like Gecko) Chrome/58.0.3029.110 Safari/537.3'\n",
    "        }\n",
    "        # Get the Wikipedia page for the subject\n",
    "        page = requests.get(f'https://en.wikipedia.org/wiki/{subject}')\n",
    "\n",
    "        # Parse the HTML of the page\n",
    "        soup = BeautifulSoup(page.content, 'html.parser')\n",
    "\n",
    "        # Find the first paragraph of the main content\n",
    "        content = soup.find(id='mw-content-text').find_all('p')[0].get_text()\n",
    "\n",
    "        # Return the content\n",
    "        return content\n",
    "    except:\n",
    "        return None\n",
    "\n",
    "bot = ChatBot(\n",
    "    'Scraping Bot',\n",
    "    logic_adapters=[\n",
    "        {\n",
    "            'import_path': 'chatterbot.logic.BestMatch',\n",
    "            'default_response': 'I am sorry, but I do not understand.',\n",
    "            'maximum_similarity_threshold': 0.50\n",
    "        }\n",
    "    ]\n",
    ")\n",
    "\n",
    "trainer = ChatterBotCorpusTrainer(bot)\n",
    "# bot.set_trainer(ChatterBotCorpusTrainer)\n",
    "\n",
    "# Train the chatbot on a corpus of data\n",
    "trainer.train('chatterbot.corpus.english')\n",
    "\n",
    "def scrape_info(url):\n",
    "    # Use requests to get the content of the URL\n",
    "    response = requests.get(url)\n",
    "\n",
    "    # Check if the request was successful\n",
    "    if response.status_code == 200:\n",
    "        # Use BeautifulSoup to parse the HTML content\n",
    "        soup = BeautifulSoup(response.text, 'html.parser')\n",
    "\n",
    "        # Extract the information you want from the HTML\n",
    "        information = soup.get_text()\n",
    "\n",
    "        return information\n",
    "    else:\n",
    "        return 'Request failed.'\n",
    "\n",
    "def get_response(input_text):\n",
    "    if 'scrape' in input_text:\n",
    "        url = input_text.split(' ')[-1]\n",
    "        return scrape_info(url)\n",
    "    else:\n",
    "        return bot.get_response(input_text).text\n"
   ]
  },
  {
   "cell_type": "code",
   "execution_count": 18,
   "id": "55253869-6a72-40cb-87dc-0a140807985a",
   "metadata": {},
   "outputs": [
    {
     "data": {
      "text/plain": [
       "'I am sorry, but I do not understand.'"
      ]
     },
     "execution_count": 18,
     "metadata": {},
     "output_type": "execute_result"
    }
   ],
   "source": [
    "get_response(\"burger\")"
   ]
  },
  {
   "cell_type": "code",
   "execution_count": null,
   "id": "8d633a81-e417-4d74-a566-992b2544f482",
   "metadata": {},
   "outputs": [],
   "source": []
  }
 ],
 "metadata": {
  "kernelspec": {
   "display_name": "Python 3 (ipykernel)",
   "language": "python",
   "name": "python3"
  },
  "language_info": {
   "codemirror_mode": {
    "name": "ipython",
    "version": 3
   },
   "file_extension": ".py",
   "mimetype": "text/x-python",
   "name": "python",
   "nbconvert_exporter": "python",
   "pygments_lexer": "ipython3",
   "version": "3.9.12"
  }
 },
 "nbformat": 4,
 "nbformat_minor": 5
}
